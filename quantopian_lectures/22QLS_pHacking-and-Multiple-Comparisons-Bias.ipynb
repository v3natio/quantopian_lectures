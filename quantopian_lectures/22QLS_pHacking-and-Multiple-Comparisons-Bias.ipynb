{
 "cells": [
  {
   "metadata": {},
   "cell_type": "markdown",
   "source": [
    "# 22. QLS - $p$-Hacking and Multiple Comparisons Bias\n",
    "\n",
    "Multiple comparisons bias is a pervasive problem in forecasting/predictions. Intuitively, the more tests that are ran, the more likely it is that there's a desired/expected outcome. By ignoring the myriad of tests that failed, there is clear misinterpretation of the data.\n",
    "\n"
   ],
   "id": "5d8f453bed15ab61"
  },
  {
   "metadata": {},
   "cell_type": "code",
   "outputs": [],
   "execution_count": null,
   "source": [
    "import numpy as np\n",
    "import pandas as pd\n",
    "from scipy import stats\n",
    "import seaborn as sb\n",
    "sb.set(rc={'figure.figsize':(11.7,8.27)})\n",
    "sb.set_style(\"whitegrid\", {\"grid.color\":\".6\", \"grid.linestyle\":\":\"})"
   ],
   "id": "a0716b69921eb8f7"
  }
 ],
 "metadata": {
  "kernelspec": {
   "display_name": "Python 3",
   "language": "python",
   "name": "python3"
  },
  "language_info": {
   "codemirror_mode": {
    "name": "ipython",
    "version": 2
   },
   "file_extension": ".py",
   "mimetype": "text/x-python",
   "name": "python",
   "nbconvert_exporter": "python",
   "pygments_lexer": "ipython2",
   "version": "2.7.6"
  }
 },
 "nbformat": 4,
 "nbformat_minor": 5
}
